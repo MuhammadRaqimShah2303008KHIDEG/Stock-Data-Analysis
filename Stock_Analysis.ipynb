{
 "cells": [
  {
   "cell_type": "code",
   "execution_count": 1,
   "id": "b9b713a5-fc4f-46a0-ae00-fcb48cba4d02",
   "metadata": {
    "tags": []
   },
   "outputs": [],
   "source": [
    "import sys\n",
    "from pyspark.sql import SparkSession\n",
    "from pyspark.sql.functions import col, avg, desc, sum, lag\n",
    "from pyspark.sql.types import DateType\n",
    "from pyspark.sql.window import Window"
   ]
  },
  {
   "cell_type": "code",
   "execution_count": 2,
   "id": "e6fb07ce-8de0-422a-adc6-b3dd75187b9b",
   "metadata": {
    "tags": []
   },
   "outputs": [
    {
     "name": "stderr",
     "output_type": "stream",
     "text": [
      "23/07/07 16:12:20 WARN Utils: Your hostname, all-MS-7D35 resolves to a loopback address: 127.0.1.1; using 192.168.1.108 instead (on interface enp2s0)\n",
      "23/07/07 16:12:20 WARN Utils: Set SPARK_LOCAL_IP if you need to bind to another address\n",
      "Setting default log level to \"WARN\".\n",
      "To adjust logging level use sc.setLogLevel(newLevel). For SparkR, use setLogLevel(newLevel).\n",
      "23/07/07 16:12:21 WARN NativeCodeLoader: Unable to load native-hadoop library for your platform... using builtin-java classes where applicable\n",
      "23/07/07 16:12:21 WARN Utils: Service 'SparkUI' could not bind on port 4040. Attempting port 4041.\n"
     ]
    }
   ],
   "source": [
    "spark = SparkSession.builder.appName('Stock_Analysis').getOrCreate()"
   ]
  },
  {
   "cell_type": "code",
   "execution_count": 3,
   "id": "f2144b6f-232d-4aa1-9b1f-e331c347136c",
   "metadata": {
    "tags": []
   },
   "outputs": [
    {
     "data": {
      "text/html": [
       "\n",
       "            <div>\n",
       "                <p><b>SparkSession - in-memory</b></p>\n",
       "                \n",
       "        <div>\n",
       "            <p><b>SparkContext</b></p>\n",
       "\n",
       "            <p><a href=\"http://192.168.1.108:4041\">Spark UI</a></p>\n",
       "\n",
       "            <dl>\n",
       "              <dt>Version</dt>\n",
       "                <dd><code>v3.4.0</code></dd>\n",
       "              <dt>Master</dt>\n",
       "                <dd><code>local[*]</code></dd>\n",
       "              <dt>AppName</dt>\n",
       "                <dd><code>Stock_Analysis</code></dd>\n",
       "            </dl>\n",
       "        </div>\n",
       "        \n",
       "            </div>\n",
       "        "
      ],
      "text/plain": [
       "<pyspark.sql.session.SparkSession at 0x7fb217f90af0>"
      ]
     },
     "execution_count": 3,
     "metadata": {},
     "output_type": "execute_result"
    }
   ],
   "source": [
    "spark"
   ]
  },
  {
   "cell_type": "code",
   "execution_count": 4,
   "id": "bae1ed8c-7fa9-4efa-bea5-0bcc5e4aca8a",
   "metadata": {
    "tags": []
   },
   "outputs": [],
   "source": [
    "spark_df=spark.read.option('header', 'true').csv('dataset.csv', inferSchema=True)"
   ]
  },
  {
   "cell_type": "code",
   "execution_count": 5,
   "id": "4b4b3e99-865c-49ea-9cbb-6db2f02842f9",
   "metadata": {
    "tags": []
   },
   "outputs": [
    {
     "data": {
      "text/plain": [
       "Row(Company='Google', Symbol='A1', Date=datetime.date(2009, 2, 1), Close=12.97, High=13.04, Low=12.97, Open=12.98, Volume=385666, Yearly=254151, Containings=254151)"
      ]
     },
     "execution_count": 5,
     "metadata": {},
     "output_type": "execute_result"
    }
   ],
   "source": [
    "spark_df.head()"
   ]
  },
  {
   "cell_type": "code",
   "execution_count": 6,
   "id": "732630f9-1c93-4a0a-8a53-6a966534e2b3",
   "metadata": {
    "tags": []
   },
   "outputs": [
    {
     "name": "stdout",
     "output_type": "stream",
     "text": [
      "+-------+------+----------+-----+-----+-----+-----+------+------+-----------+\n",
      "|Company|Symbol|      Date|Close| High|  Low| Open|Volume|Yearly|Containings|\n",
      "+-------+------+----------+-----+-----+-----+-----+------+------+-----------+\n",
      "| Google|    A1|2009-02-01|12.97|13.04|12.97|12.98|385666|254151|     254151|\n",
      "| Google|    A2|2009-02-02| 12.4|13.08| 12.4|13.08|385667|254152|     254152|\n",
      "| Google|    A3|2009-02-03|12.72|12.93|12.72| 12.8|385668|254153|     254153|\n",
      "| Google|    A4|2009-02-04|12.56| 12.8|12.56|12.59|385669|254154|     254154|\n",
      "| Google|    A5|2009-02-05| 11.9|12.67| 11.9|12.43|385670|254155|     254155|\n",
      "| Google|    A6|2009-02-06|11.85|12.21|11.85|12.12|385671|254156|     254156|\n",
      "| Google|    A7|2009-02-07|12.13|12.13|11.91| 12.1|385672|254157|     254157|\n",
      "| Google|    A8|2009-02-08|11.61|11.91|11.61|11.85|385673|254158|     254158|\n",
      "| Google|    A9|2009-02-09|10.49|10.84|10.49|10.73|385674|254159|     254159|\n",
      "| Google|   A10|2009-02-10| 11.1| 11.1|10.63|10.63|385675|254160|     254160|\n",
      "| Google|   A11|2009-02-11|10.25|10.81|10.25|10.81|385676|254161|     254161|\n",
      "| Google|   A12|2009-02-12| 8.61| 9.08| 8.61| 9.08|385677|254162|     254162|\n",
      "| Google|   A13|2009-02-13| 8.66| 8.81| 8.66| 8.81|385678|254163|     254163|\n",
      "| Google|   A14|2009-02-14| 9.35| 9.35| 8.74| 8.74|385679|254164|     254164|\n",
      "| Google|   A15|2009-02-15| 9.71| 9.71| 9.15| 9.28|385680|254165|     254165|\n",
      "| Google|   A16|2009-02-16| 9.79| 9.79| 9.45| 9.46|385681|254166|     254166|\n",
      "| Google|   A17|2009-02-17|  9.5| 10.0|  9.5| 9.86|385682|254167|     254167|\n",
      "| Google|   A18|2009-02-18| 9.55|  9.8| 9.55|  9.8|385683|254168|     254168|\n",
      "| Google|   A19|2009-02-19| 9.88| 9.88| 9.56| 9.56|385684|254169|     254169|\n",
      "| Google|   A20|2009-02-20| 9.67| 10.0| 9.67| 9.81|385685|254170|     254170|\n",
      "+-------+------+----------+-----+-----+-----+-----+------+------+-----------+\n",
      "only showing top 20 rows\n",
      "\n"
     ]
    }
   ],
   "source": [
    "spark_df.show()"
   ]
  },
  {
   "cell_type": "code",
   "execution_count": 7,
   "id": "c5df28ae-e8bc-4e04-b72b-0ecc46dc0c70",
   "metadata": {
    "tags": []
   },
   "outputs": [
    {
     "name": "stdout",
     "output_type": "stream",
     "text": [
      "root\n",
      " |-- Company: string (nullable = true)\n",
      " |-- Symbol: string (nullable = true)\n",
      " |-- Date: date (nullable = true)\n",
      " |-- Close: double (nullable = true)\n",
      " |-- High: double (nullable = true)\n",
      " |-- Low: double (nullable = true)\n",
      " |-- Open: double (nullable = true)\n",
      " |-- Volume: integer (nullable = true)\n",
      " |-- Yearly: integer (nullable = true)\n",
      " |-- Containings: integer (nullable = true)\n",
      "\n"
     ]
    }
   ],
   "source": [
    "spark_df.printSchema()"
   ]
  },
  {
   "cell_type": "code",
   "execution_count": 8,
   "id": "cec7c702-97ea-41ce-912a-8f32e0aa7d4d",
   "metadata": {
    "tags": []
   },
   "outputs": [],
   "source": [
    "spark_df=spark_df.drop(\"Yearly\",\"Containings\")"
   ]
  },
  {
   "cell_type": "code",
   "execution_count": 9,
   "id": "42d223ba-03c4-4a93-a6de-d89660fdc6ba",
   "metadata": {
    "tags": []
   },
   "outputs": [
    {
     "name": "stdout",
     "output_type": "stream",
     "text": [
      "root\n",
      " |-- Company: string (nullable = true)\n",
      " |-- Symbol: string (nullable = true)\n",
      " |-- Date: date (nullable = true)\n",
      " |-- Close: double (nullable = true)\n",
      " |-- High: double (nullable = true)\n",
      " |-- Low: double (nullable = true)\n",
      " |-- Open: double (nullable = true)\n",
      " |-- Volume: integer (nullable = true)\n",
      "\n"
     ]
    }
   ],
   "source": [
    "spark_df.printSchema()"
   ]
  },
  {
   "cell_type": "code",
   "execution_count": 10,
   "id": "fedfe836-0812-4ffd-acae-ca43f749ef47",
   "metadata": {
    "tags": []
   },
   "outputs": [
    {
     "data": {
      "text/plain": [
       "[('Company', 'string'),\n",
       " ('Symbol', 'string'),\n",
       " ('Date', 'date'),\n",
       " ('Close', 'double'),\n",
       " ('High', 'double'),\n",
       " ('Low', 'double'),\n",
       " ('Open', 'double'),\n",
       " ('Volume', 'int')]"
      ]
     },
     "execution_count": 10,
     "metadata": {},
     "output_type": "execute_result"
    }
   ],
   "source": [
    "spark_df.dtypes"
   ]
  },
  {
   "cell_type": "code",
   "execution_count": 11,
   "id": "b57aed45-e7d2-4143-84fc-cc88d73be181",
   "metadata": {
    "tags": []
   },
   "outputs": [
    {
     "name": "stdout",
     "output_type": "stream",
     "text": [
      "+-------+------+----------+-----+-----+-----+-----+------+\n",
      "|Company|Symbol|      Date|Close| High|  Low| Open|Volume|\n",
      "+-------+------+----------+-----+-----+-----+-----+------+\n",
      "| Google|    A1|2009-02-01|12.97|13.04|12.97|12.98|385666|\n",
      "| Google|    A2|2009-02-02| 12.4|13.08| 12.4|13.08|385667|\n",
      "| Google|    A3|2009-02-03|12.72|12.93|12.72| 12.8|385668|\n",
      "| Google|    A4|2009-02-04|12.56| 12.8|12.56|12.59|385669|\n",
      "| Google|    A5|2009-02-05| 11.9|12.67| 11.9|12.43|385670|\n",
      "| Google|    A6|2009-02-06|11.85|12.21|11.85|12.12|385671|\n",
      "| Google|    A7|2009-02-07|12.13|12.13|11.91| 12.1|385672|\n",
      "| Google|    A8|2009-02-08|11.61|11.91|11.61|11.85|385673|\n",
      "| Google|    A9|2009-02-09|10.49|10.84|10.49|10.73|385674|\n",
      "| Google|   A10|2009-02-10| 11.1| 11.1|10.63|10.63|385675|\n",
      "| Google|   A11|2009-02-11|10.25|10.81|10.25|10.81|385676|\n",
      "| Google|   A12|2009-02-12| 8.61| 9.08| 8.61| 9.08|385677|\n",
      "| Google|   A13|2009-02-13| 8.66| 8.81| 8.66| 8.81|385678|\n",
      "| Google|   A14|2009-02-14| 9.35| 9.35| 8.74| 8.74|385679|\n",
      "| Google|   A15|2009-02-15| 9.71| 9.71| 9.15| 9.28|385680|\n",
      "| Google|   A16|2009-02-16| 9.79| 9.79| 9.45| 9.46|385681|\n",
      "| Google|   A17|2009-02-17|  9.5| 10.0|  9.5| 9.86|385682|\n",
      "| Google|   A18|2009-02-18| 9.55|  9.8| 9.55|  9.8|385683|\n",
      "| Google|   A19|2009-02-19| 9.88| 9.88| 9.56| 9.56|385684|\n",
      "| Google|   A20|2009-02-20| 9.67| 10.0| 9.67| 9.81|385685|\n",
      "+-------+------+----------+-----+-----+-----+-----+------+\n",
      "only showing top 20 rows\n",
      "\n"
     ]
    }
   ],
   "source": [
    "spark_df.na.drop().show()"
   ]
  },
  {
   "cell_type": "code",
   "execution_count": 12,
   "id": "019daf33-8d68-41b0-a776-ae6d76bc6da5",
   "metadata": {
    "tags": []
   },
   "outputs": [
    {
     "name": "stdout",
     "output_type": "stream",
     "text": [
      "+-------+------+----+-----+----+---+----+------+\n",
      "|Company|Symbol|Date|Close|High|Low|Open|Volume|\n",
      "+-------+------+----+-----+----+---+----+------+\n",
      "+-------+------+----+-----+----+---+----+------+\n",
      "\n"
     ]
    }
   ],
   "source": [
    "spark_df.filter(\"Close=0\").show()"
   ]
  },
  {
   "cell_type": "code",
   "execution_count": 13,
   "id": "de1e0659-b240-4b9e-a533-2d92319a2e56",
   "metadata": {
    "tags": []
   },
   "outputs": [],
   "source": [
    "spark_df = spark_df.withColumn(\"Close\", spark_df[\"Close\"].cast(\"float\")) \\\n",
    "    .withColumn(\"High\", spark_df[\"High\"].cast(\"float\")) \\\n",
    "    .withColumn(\"Low\", spark_df[\"Low\"].cast(\"float\")) \\\n",
    "    .withColumn(\"Open\", spark_df[\"Open\"].cast(\"float\"))"
   ]
  },
  {
   "cell_type": "code",
   "execution_count": 14,
   "id": "0966ba25-c936-43b5-9186-edd214e3c42f",
   "metadata": {
    "tags": []
   },
   "outputs": [
    {
     "data": {
      "text/plain": [
       "[('Company', 'string'),\n",
       " ('Symbol', 'string'),\n",
       " ('Date', 'date'),\n",
       " ('Close', 'float'),\n",
       " ('High', 'float'),\n",
       " ('Low', 'float'),\n",
       " ('Open', 'float'),\n",
       " ('Volume', 'int')]"
      ]
     },
     "execution_count": 14,
     "metadata": {},
     "output_type": "execute_result"
    }
   ],
   "source": [
    "spark_df.dtypes"
   ]
  },
  {
   "cell_type": "markdown",
   "id": "8d7a85f7-bfd4-464e-9aa6-2bafe643836f",
   "metadata": {},
   "source": [
    "## Perform statistical analysis on the stock market data:"
   ]
  },
  {
   "cell_type": "code",
   "execution_count": 15,
   "id": "d7385350-8b00-4fd4-a8b7-23f756fa80eb",
   "metadata": {
    "tags": []
   },
   "outputs": [],
   "source": [
    "grouped_data = spark_df.groupBy(\"Company\")"
   ]
  },
  {
   "cell_type": "code",
   "execution_count": 16,
   "id": "9aee1e77-7f04-4f4e-84d9-e17f02258111",
   "metadata": {
    "tags": []
   },
   "outputs": [
    {
     "data": {
      "text/plain": [
       "<pyspark.sql.group.GroupedData at 0x7fb217f91b70>"
      ]
     },
     "execution_count": 16,
     "metadata": {},
     "output_type": "execute_result"
    }
   ],
   "source": [
    "grouped_data"
   ]
  },
  {
   "cell_type": "code",
   "execution_count": 17,
   "id": "6212719e-92bb-407e-a394-261667cd0936",
   "metadata": {
    "tags": []
   },
   "outputs": [],
   "source": [
    "average_closing_price = grouped_data.agg(avg(\"Close\").alias(\"AvgClosingPrice\"))"
   ]
  },
  {
   "cell_type": "code",
   "execution_count": 18,
   "id": "f6002f35-c259-429e-979b-4d75e2915ea3",
   "metadata": {
    "tags": []
   },
   "outputs": [
    {
     "name": "stdout",
     "output_type": "stream",
     "text": [
      "+--------+------------------+\n",
      "| Company|   AvgClosingPrice|\n",
      "+--------+------------------+\n",
      "| Infinix|2.9094599962234495|\n",
      "|   Nokia| 8.017189965248107|\n",
      "|    One+|2.3719799971580504|\n",
      "| Telpark| 1.712940002679825|\n",
      "|Motorola|  2.99792999625206|\n",
      "|  Realme| 4.324689993858337|\n",
      "|    Nasa| 2.020989979505539|\n",
      "|   Redmi|            19.195|\n",
      "|    Poco|3.2646500134468077|\n",
      "|    Oppo|21.193299961090087|\n",
      "|  Techno|18.633450021743773|\n",
      "|   Huwai|   2.2851700091362|\n",
      "| Samsung|19.934100017547607|\n",
      "|     HTC|0.5222700017690659|\n",
      "|  Google|14.565151522857974|\n",
      "|    Vivo|0.6193199977278709|\n",
      "|   Apple|19.739599924087525|\n",
      "|Q-Mobile| 3.737999997138977|\n",
      "|    Deny|3.3789899921417237|\n",
      "|     TCL|0.5106799983978272|\n",
      "+--------+------------------+\n",
      "\n"
     ]
    }
   ],
   "source": [
    "average_closing_price.show()"
   ]
  },
  {
   "cell_type": "code",
   "execution_count": 19,
   "id": "91c5c740-a4df-4e6a-90b1-4ea285cb40fd",
   "metadata": {
    "tags": []
   },
   "outputs": [],
   "source": [
    "highest_trading_volume =grouped_data.max(\"Volume\")\n",
    "highest_trading_volume = highest_trading_volume.orderBy(desc(\"max(Volume)\")).limit(5).alias(\"MaxVolume\")"
   ]
  },
  {
   "cell_type": "code",
   "execution_count": 20,
   "id": "645ec990-554c-48d3-98c7-d4c576ab5664",
   "metadata": {
    "tags": []
   },
   "outputs": [
    {
     "name": "stdout",
     "output_type": "stream",
     "text": [
      "+--------+-----------+\n",
      "| Company|max(Volume)|\n",
      "+--------+-----------+\n",
      "|    Vivo|    8140000|\n",
      "|Motorola|    7240000|\n",
      "|     HTC|    3270000|\n",
      "| Telpark|    3150000|\n",
      "|    One+|    3010000|\n",
      "+--------+-----------+\n",
      "\n"
     ]
    }
   ],
   "source": [
    "highest_trading_volume.show()"
   ]
  },
  {
   "cell_type": "code",
   "execution_count": 21,
   "id": "47ebe69a-0b03-4546-9485-22dbc13052ff",
   "metadata": {
    "tags": []
   },
   "outputs": [
    {
     "name": "stdout",
     "output_type": "stream",
     "text": [
      "+-------+------+----------+-----+-----+-----+-----+------+\n",
      "|Company|Symbol|      Date|Close| High|  Low| Open|Volume|\n",
      "+-------+------+----------+-----+-----+-----+-----+------+\n",
      "| Google|    A1|2009-02-01|12.97|13.04|12.97|12.98|385666|\n",
      "| Google|    A2|2009-02-02| 12.4|13.08| 12.4|13.08|385667|\n",
      "| Google|    A3|2009-02-03|12.72|12.93|12.72| 12.8|385668|\n",
      "| Google|    A4|2009-02-04|12.56| 12.8|12.56|12.59|385669|\n",
      "| Google|    A5|2009-02-05| 11.9|12.67| 11.9|12.43|385670|\n",
      "| Google|    A6|2009-02-06|11.85|12.21|11.85|12.12|385671|\n",
      "| Google|    A7|2009-02-07|12.13|12.13|11.91| 12.1|385672|\n",
      "| Google|    A8|2009-02-08|11.61|11.91|11.61|11.85|385673|\n",
      "| Google|    A9|2009-02-09|10.49|10.84|10.49|10.73|385674|\n",
      "| Google|   A10|2009-02-10| 11.1| 11.1|10.63|10.63|385675|\n",
      "| Google|   A11|2009-02-11|10.25|10.81|10.25|10.81|385676|\n",
      "| Google|   A12|2009-02-12| 8.61| 9.08| 8.61| 9.08|385677|\n",
      "| Google|   A13|2009-02-13| 8.66| 8.81| 8.66| 8.81|385678|\n",
      "| Google|   A14|2009-02-14| 9.35| 9.35| 8.74| 8.74|385679|\n",
      "| Google|   A15|2009-02-15| 9.71| 9.71| 9.15| 9.28|385680|\n",
      "| Google|   A16|2009-02-16| 9.79| 9.79| 9.45| 9.46|385681|\n",
      "| Google|   A17|2009-02-17|  9.5| 10.0|  9.5| 9.86|385682|\n",
      "| Google|   A18|2009-02-18| 9.55|  9.8| 9.55|  9.8|385683|\n",
      "| Google|   A19|2009-02-19| 9.88| 9.88| 9.56| 9.56|385684|\n",
      "| Google|   A20|2009-02-20| 9.67| 10.0| 9.67| 9.81|385685|\n",
      "+-------+------+----------+-----+-----+-----+-----+------+\n",
      "only showing top 20 rows\n",
      "\n"
     ]
    }
   ],
   "source": [
    "spark_df.show()"
   ]
  },
  {
   "cell_type": "code",
   "execution_count": 22,
   "id": "aed6bba1-fc3d-41f7-9283-c01ec9d4d324",
   "metadata": {
    "tags": []
   },
   "outputs": [],
   "source": [
    "closing_price = spark_df.select('Company', 'Close').groupBy('Company')\n"
   ]
  },
  {
   "cell_type": "code",
   "execution_count": 23,
   "id": "7919aa93-c8cf-4ed7-b133-ff8e6c4b036b",
   "metadata": {
    "tags": []
   },
   "outputs": [],
   "source": [
    "sum_closing_price = grouped_data.agg(sum('Close').alias('Total_Close'))"
   ]
  },
  {
   "cell_type": "code",
   "execution_count": 24,
   "id": "1627bc98-ee00-4869-8565-9cba6560d478",
   "metadata": {
    "tags": []
   },
   "outputs": [
    {
     "name": "stdout",
     "output_type": "stream",
     "text": [
      "+--------+------------------+\n",
      "| Company|       Total_Close|\n",
      "+--------+------------------+\n",
      "| Infinix|290.94599962234497|\n",
      "|   Nokia| 801.7189965248108|\n",
      "|    One+|237.19799971580505|\n",
      "| Telpark|171.29400026798248|\n",
      "|Motorola|  299.792999625206|\n",
      "|  Realme|432.46899938583374|\n",
      "|    Nasa| 202.0989979505539|\n",
      "|   Redmi|            1919.5|\n",
      "|    Poco| 326.4650013446808|\n",
      "|    Oppo| 2119.329996109009|\n",
      "|  Techno|1863.3450021743774|\n",
      "|   Huwai|   228.51700091362|\n",
      "| Samsung|1993.4100017547607|\n",
      "|     HTC|52.227000176906586|\n",
      "|  Google|1441.9500007629395|\n",
      "|    Vivo|61.931999772787094|\n",
      "|   Apple|1973.9599924087524|\n",
      "|Q-Mobile| 373.7999997138977|\n",
      "|    Deny|337.89899921417236|\n",
      "|     TCL|51.067999839782715|\n",
      "+--------+------------------+\n",
      "\n"
     ]
    }
   ],
   "source": [
    "sum_closing_price.show()"
   ]
  },
  {
   "cell_type": "code",
   "execution_count": 25,
   "id": "754e53bc-1ea6-4d92-a5e0-9161a89dfa16",
   "metadata": {
    "tags": []
   },
   "outputs": [
    {
     "name": "stdout",
     "output_type": "stream",
     "text": [
      "<pyspark.sql.group.GroupedData object at 0x7fb215bb4520>\n"
     ]
    }
   ],
   "source": [
    "print(closing_price)"
   ]
  },
  {
   "cell_type": "code",
   "execution_count": 34,
   "id": "3984e570-bc7b-47d8-9941-727acc88c1bb",
   "metadata": {
    "tags": []
   },
   "outputs": [
    {
     "name": "stdout",
     "output_type": "stream",
     "text": [
      "+-------+------+----------+-----+-----+-----+-----+------+----------------------+\n",
      "|Company|Symbol|      Date|Close| High|  Low| Open|Volume|Close_price_percentage|\n",
      "+-------+------+----------+-----+-----+-----+-----+------+----------------------+\n",
      "|  Apple|  A200|2009-02-01|23.98|24.06|23.34|23.82|385865|    1.2148168977312654|\n",
      "|  Apple|  A201|2009-02-02|23.85|24.34|23.59|24.19|385866|     2.423048091534055|\n",
      "|  Apple|  A202|2009-02-03|23.31|24.11|23.17|23.92|385867|    3.6039230614212627|\n",
      "|  Apple|  A203|2009-02-04|23.51|23.62|22.98|23.38|385868|     4.794929987564352|\n",
      "|  Apple|  A204|2009-02-05|23.47|23.74|23.39|23.51|385869|     5.983910483806066|\n",
      "|  Apple|  A205|2009-02-06| 24.0|24.09|23.44|23.63|385870|     7.199740596488018|\n",
      "|  Apple|  A206|2009-02-07|23.61|24.11|23.49|24.02|385871|     8.395813500759047|\n",
      "|  Apple|  A207|2009-02-08|23.78|23.82|23.42|23.65|385872|     9.600498538859927|\n",
      "|  Apple|  A208|2009-02-09|23.17|23.76|22.58|23.76|385873|    10.774281197343315|\n",
      "|  Apple|  A209|2009-02-10|22.34|23.32|22.17|23.28|385874|     11.90601640162814|\n",
      "|  Apple|  A210|2009-02-11|22.04| 22.7|21.91|22.56|385875|    13.022553768154637|\n",
      "|  Apple|  A211|2009-02-12|21.52|21.99|21.29|21.99|385876|     14.11274812571624|\n",
      "|  Apple|  A212|2009-02-13|22.21|22.39|21.36|21.52|385877|    15.237897529447093|\n",
      "|  Apple|  A213|2009-02-14|22.22|22.37|21.87|22.03|385878|     16.36355354065329|\n",
      "|  Apple|  A214|2009-02-15|21.73|22.09|21.63|22.05|385879|     17.46438636532062|\n",
      "|  Apple|  A215|2009-02-16|21.65|22.35|21.56|22.06|385880|      18.5611664268107|\n",
      "|  Apple|  A216|2009-02-17|21.98|22.12| 21.2| 21.7|385881|    19.674664148485135|\n",
      "|  Apple|  A217|2009-02-18|21.63|22.04|21.43|21.78|385882|    20.770430995024526|\n",
      "|  Apple|  A218|2009-02-19|22.15|22.27|21.65|21.69|385883|    21.892540850528814|\n",
      "|  Apple|  A219|2009-02-20| 22.0|22.42|21.94|22.18|385884|    23.007051787153937|\n",
      "+-------+------+----------+-----+-----+-----+-----+------+----------------------+\n",
      "only showing top 20 rows\n",
      "\n"
     ]
    }
   ],
   "source": [
    "df_percent = spark_df.withColumn('Close_price_percent', col('Close')/sum('Close').over(Window.partitionBy('Company'))*100)\n",
    "df_cum_percent_grp = df_percent.withColumn('Close_price_percentage', sum(df_percent.Close_price_percent).over(Window.partitionBy('Company').rowsBetween(-sys.maxsize, 0)))\n",
    "df_cum_percent_grp=df_cum_percent_grp.drop('Close_price_percent')\n",
    "df_cum_percent_grp.show()\n"
   ]
  },
  {
   "cell_type": "code",
   "execution_count": 36,
   "id": "75cd5b68-af7a-4f30-a2cc-a6a8176063fd",
   "metadata": {
    "tags": []
   },
   "outputs": [
    {
     "data": {
      "text/plain": [
       "Row(Company='Nokia', Symbol='A699', Date=datetime.date(2009, 5, 11), Close=4.275000095367432, High=4.4720001220703125, Low=4.269999980926514, Open=4.410999774932861, Volume=281710, Close_price_percentage=100.00000000000007)"
      ]
     },
     "execution_count": 36,
     "metadata": {},
     "output_type": "execute_result"
    }
   ],
   "source": [
    "max_change_day = df_cum_percent_grp.orderBy(desc('Close_price_percentage')).first()\n",
    "max_change_day"
   ]
  },
  {
   "cell_type": "code",
   "execution_count": 38,
   "id": "fcbcd85a-7d9d-4bfe-b895-5e6fe4b61104",
   "metadata": {
    "tags": []
   },
   "outputs": [
    {
     "data": {
      "text/plain": [
       "Row(Company='Deny', Symbol='A1200', Date=datetime.date(2009, 2, 1), Close=2.2279999256134033, High=2.2920000553131104, Low=2.2279999256134033, Open=2.2920000553131104, Volume=115440, Close_price_percentage=0.6593686074226038)"
      ]
     },
     "execution_count": 38,
     "metadata": {},
     "output_type": "execute_result"
    }
   ],
   "source": [
    "min_change_day = df_cum_percent_grp.orderBy('Close_price_percentage').first()\n",
    "min_change_day"
   ]
  },
  {
   "cell_type": "code",
   "execution_count": 44,
   "id": "4d996b74-062e-43f2-b888-a4f3733b1bdd",
   "metadata": {
    "tags": []
   },
   "outputs": [
    {
     "name": "stdout",
     "output_type": "stream",
     "text": [
      "Day with highest percentage change: 2009-05-11 Nokia 100.00000000000007\n",
      "Day with lowest percentage change: 2009-02-01 Deny 0.6593686074226038\n"
     ]
    }
   ],
   "source": [
    "\n",
    "print(\"Day with highest percentage change:\", max_change_day['Date'], max_change_day['Company'], max_change_day['Close_price_percentage'])\n",
    "# print('_____________________________________')\n",
    "\n",
    "print('Day with lowest percentage change:', min_change_day['Date'], min_change_day['Company'], min_change_day['Close_price_percentage'])"
   ]
  },
  {
   "cell_type": "markdown",
   "id": "870a4ee8-f1a1-4986-bbfd-056045080592",
   "metadata": {},
   "source": [
    "## Perform time series analysis on the stock market data:"
   ]
  },
  {
   "cell_type": "code",
   "execution_count": null,
   "id": "a518c1c1-2407-41f6-b81c-e21d4c059675",
   "metadata": {},
   "outputs": [],
   "source": []
  }
 ],
 "metadata": {
  "kernelspec": {
   "display_name": "Python 3 (ipykernel)",
   "language": "python",
   "name": "python3"
  },
  "language_info": {
   "codemirror_mode": {
    "name": "ipython",
    "version": 3
   },
   "file_extension": ".py",
   "mimetype": "text/x-python",
   "name": "python",
   "nbconvert_exporter": "python",
   "pygments_lexer": "ipython3",
   "version": "3.10.6"
  }
 },
 "nbformat": 4,
 "nbformat_minor": 5
}
